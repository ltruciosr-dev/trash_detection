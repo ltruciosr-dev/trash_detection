{
 "cells": [
  {
   "cell_type": "code",
   "execution_count": 1,
   "metadata": {},
   "outputs": [],
   "source": [
    "import os\n",
    "import shutil\n",
    "import numpy as np\n",
    "import tqdm"
   ]
  },
  {
   "cell_type": "code",
   "execution_count": 2,
   "metadata": {},
   "outputs": [
    {
     "name": "stdout",
     "output_type": "stream",
     "text": [
      "loading annotations into memory...\n",
      "Done (t=0.07s)\n",
      "creating index...\n",
      "index created!\n"
     ]
    }
   ],
   "source": [
    "from pycocotools.coco import COCO\n",
    "\n",
    "data_dir = '../../TACO/data'\n",
    "data_source = COCO(annotation_file=f'{data_dir}/annotations.json')"
   ]
  },
  {
   "cell_type": "markdown",
   "metadata": {},
   "source": [
    "# 1. Enumerate all categories and select the required ones:"
   ]
  },
  {
   "cell_type": "code",
   "execution_count": 3,
   "metadata": {},
   "outputs": [],
   "source": [
    "category_dict = {}\n",
    "for ann_id in data_source.getAnnIds():\n",
    "    annotation = data_source.loadAnns(ann_id)[0]\n",
    "    category_id = annotation['category_id']\n",
    "    if category_id not in category_dict:\n",
    "        category_dict[category_id] = 1\n",
    "    else:\n",
    "        category_dict[category_id] += 1"
   ]
  },
  {
   "cell_type": "code",
   "execution_count": 5,
   "metadata": {},
   "outputs": [],
   "source": [
    "supercategory_labels = {}"
   ]
  },
  {
   "cell_type": "markdown",
   "metadata": {},
   "source": [
    "### 1.1. Plastic & Can"
   ]
  },
  {
   "cell_type": "code",
   "execution_count": 6,
   "metadata": {},
   "outputs": [
    {
     "name": "stdout",
     "output_type": "stream",
     "text": [
      "Bottle | Other plastic bottle [4]: 50\n",
      "Bottle | Clear plastic bottle [5]: 286\n",
      "Bottle cap | Plastic bottle cap [7]: 209\n",
      "Cup | Disposable plastic cup [21]: 104\n",
      "Cup | Other plastic cup [24]: 2\n",
      "Lid | Plastic lid [27]: 77\n",
      "Other plastic | Other plastic [29]: 273\n",
      "Plastic bag & wrapper | Plastic film [36]: 451\n",
      "Plastic bag & wrapper | Other plastic wrapper [39]: 260\n",
      "Plastic container | Other plastic container [47]: 6\n",
      "Plastic glooves | Plastic glooves [48]: 4\n",
      "Plastic utensils | Plastic utensils [49]: 37\n",
      "Straw | Plastic straw [55]: 157\n"
     ]
    }
   ],
   "source": [
    "for cat_id in data_source.getCatIds():\n",
    "    supercategory = data_source.loadCats(cat_id)[0]['supercategory']\n",
    "    category = data_source.loadCats(cat_id)[0]['name']\n",
    "    category_id = data_source.loadCats(cat_id)[0]['id']\n",
    "    if category_id in category_dict:\n",
    "        n_images = category_dict[category_id]\n",
    "    else: \n",
    "        n_images = 0\n",
    "    if 'plastic' in category.lower():\n",
    "        print(f\"{supercategory} | {category} [{category_id}]: {n_images}\")\n",
    "        if supercategory not in supercategory_labels.keys():\n",
    "            supercategory_labels[supercategory] = [category_id]\n",
    "        else:\n",
    "            supercategory_labels[supercategory].append(category_id)"
   ]
  },
  {
   "cell_type": "code",
   "execution_count": 7,
   "metadata": {},
   "outputs": [
    {
     "name": "stdout",
     "output_type": "stream",
     "text": [
      "Can | Food Can [10]: 34\n",
      "Can | Drink can [12]: 229\n"
     ]
    }
   ],
   "source": [
    "for cat_id in data_source.getCatIds():\n",
    "    supercategory = data_source.loadCats(cat_id)[0]['supercategory']\n",
    "    category = data_source.loadCats(cat_id)[0]['name']\n",
    "    category_id = data_source.loadCats(cat_id)[0]['id']\n",
    "    if category_id in category_dict:\n",
    "        n_images = category_dict[category_id]\n",
    "    else: \n",
    "        n_images = 0\n",
    "    if 'can' in category.lower():\n",
    "        print(f\"{supercategory} | {category} [{category_id}]: {n_images}\")\n",
    "        if supercategory not in supercategory_labels.keys():\n",
    "            supercategory_labels[supercategory] = [category_id]\n",
    "        else:\n",
    "            supercategory_labels[supercategory].append(category_id)"
   ]
  },
  {
   "cell_type": "code",
   "execution_count": 8,
   "metadata": {},
   "outputs": [
    {
     "name": "stdout",
     "output_type": "stream",
     "text": [
      "Styrofoam piece | Styrofoam piece [57] : 112\n"
     ]
    }
   ],
   "source": [
    "for cat_id in data_source.getCatIds():\n",
    "    supercategory = data_source.loadCats(cat_id)[0]['supercategory']\n",
    "    category = data_source.loadCats(cat_id)[0]['name']\n",
    "    category_id = data_source.loadCats(cat_id)[0]['id']\n",
    "    if category_id in category_dict:\n",
    "        n_images = category_dict[category_id]\n",
    "    else: \n",
    "        n_images = 0\n",
    "    if 'styrofoam' in category.lower():\n",
    "        print(f\"{supercategory} | {category} [{category_id}] : {n_images}\")\n",
    "        if supercategory not in supercategory_labels.keys():\n",
    "            supercategory_labels[supercategory] = [category_id]\n",
    "        else:\n",
    "            supercategory_labels[supercategory].append(category_id)"
   ]
  },
  {
   "cell_type": "markdown",
   "metadata": {},
   "source": [
    "### 1.2. Paper and Carton"
   ]
  },
  {
   "cell_type": "code",
   "execution_count": 9,
   "metadata": {},
   "outputs": [
    {
     "name": "stdout",
     "output_type": "stream",
     "text": [
      "Cup | Paper cup [20] : 67\n",
      "Paper | Magazine paper [30] : 12\n",
      "Paper | Wrapping paper [32] : 12\n",
      "Paper | Normal paper [33] : 82\n",
      "Paper bag | Paper bag [34] : 27\n",
      "Paper bag | Plastified paper bag [35] : 0\n",
      "Straw | Paper straw [56] : 4\n"
     ]
    }
   ],
   "source": [
    "for cat_id in data_source.getCatIds():\n",
    "    supercategory = data_source.loadCats(cat_id)[0]['supercategory']\n",
    "    category = data_source.loadCats(cat_id)[0]['name']\n",
    "    category_id = data_source.loadCats(cat_id)[0]['id']\n",
    "    if category_id in category_dict:\n",
    "        n_images = category_dict[category_id]\n",
    "    else: \n",
    "        n_images = 0\n",
    "    if 'paper' in category.lower():\n",
    "        print(f\"{supercategory} | {category} [{category_id}] : {n_images}\")\n",
    "        if supercategory not in supercategory_labels.keys():\n",
    "            supercategory_labels[supercategory] = [category_id]\n",
    "        else:\n",
    "            supercategory_labels[supercategory].append(category_id)"
   ]
  },
  {
   "cell_type": "code",
   "execution_count": 10,
   "metadata": {},
   "outputs": [
    {
     "name": "stdout",
     "output_type": "stream",
     "text": [
      "Carton | Other carton [14] : 93\n",
      "Carton | Egg carton [15] : 11\n",
      "Carton | Drink carton [16] : 45\n",
      "Carton | Corrugated carton [17] : 64\n",
      "Carton | Meal carton [18] : 30\n"
     ]
    }
   ],
   "source": [
    "for cat_id in data_source.getCatIds():\n",
    "    supercategory = data_source.loadCats(cat_id)[0]['supercategory']\n",
    "    category = data_source.loadCats(cat_id)[0]['name']\n",
    "    category_id = data_source.loadCats(cat_id)[0]['id']\n",
    "    if category_id in category_dict:\n",
    "        n_images = category_dict[category_id]\n",
    "    else: \n",
    "        n_images = 0\n",
    "    if 'carton' in category.lower():\n",
    "        print(f\"{supercategory} | {category} [{category_id}] : {n_images}\")\n",
    "        if supercategory not in supercategory_labels.keys():\n",
    "            supercategory_labels[supercategory] = [category_id]\n",
    "        else:\n",
    "            supercategory_labels[supercategory].append(category_id)"
   ]
  },
  {
   "cell_type": "markdown",
   "metadata": {},
   "source": [
    "### 1.3. Glass"
   ]
  },
  {
   "cell_type": "code",
   "execution_count": 11,
   "metadata": {},
   "outputs": [
    {
     "name": "stdout",
     "output_type": "stream",
     "text": [
      "Bottle | Glass bottle [6] : 104\n",
      "Broken glass | Broken glass [9] : 138\n",
      "Cup | Glass cup [23] : 6\n",
      "Glass jar | Glass jar [26] : 6\n"
     ]
    }
   ],
   "source": [
    "for cat_id in data_source.getCatIds():\n",
    "    supercategory = data_source.loadCats(cat_id)[0]['supercategory']\n",
    "    category = data_source.loadCats(cat_id)[0]['name']\n",
    "    category_id = data_source.loadCats(cat_id)[0]['id']\n",
    "    if category_id in category_dict:\n",
    "        n_images = category_dict[category_id]\n",
    "    else: \n",
    "        n_images = 0\n",
    "    if 'glass' in category.lower():\n",
    "        print(f\"{supercategory} | {category} [{category_id}] : {n_images}\")\n",
    "        if supercategory not in supercategory_labels.keys():\n",
    "            supercategory_labels[supercategory] = [category_id]\n",
    "        else:\n",
    "            supercategory_labels[supercategory].append(category_id)"
   ]
  },
  {
   "cell_type": "markdown",
   "metadata": {},
   "source": [
    "### 1.4. Metals and dangerous materials"
   ]
  },
  {
   "cell_type": "code",
   "execution_count": 12,
   "metadata": {},
   "outputs": [
    {
     "name": "stdout",
     "output_type": "stream",
     "text": [
      "Aluminium foil | Aluminium foil [0] : 62\n",
      "Blister pack | Aluminium blister pack [2] : 6\n",
      "Bottle cap | Metal bottle cap [8] : 80\n",
      "Lid | Metal lid [28] : 10\n",
      "Scrap metal | Scrap metal [52] : 20\n",
      "Cigarette | Cigarette [59] : 665\n"
     ]
    }
   ],
   "source": [
    "for cat_id in data_source.getCatIds():\n",
    "    supercategory = data_source.loadCats(cat_id)[0]['supercategory']\n",
    "    category = data_source.loadCats(cat_id)[0]['name']\n",
    "    category_id = data_source.loadCats(cat_id)[0]['id']\n",
    "    if category_id in category_dict:\n",
    "        n_images = category_dict[category_id]\n",
    "    else: \n",
    "        n_images = 0\n",
    "    if any(keyword in category.lower() for keyword in ['metal', 'aluminium', 'cigarette']):\n",
    "        print(f\"{supercategory} | {category} [{category_id}] : {n_images}\")\n",
    "        if supercategory not in supercategory_labels.keys():\n",
    "            supercategory_labels[supercategory] = [category_id]\n",
    "        else:\n",
    "            supercategory_labels[supercategory].append(category_id)"
   ]
  },
  {
   "cell_type": "markdown",
   "metadata": {},
   "source": [
    "### 1.5. Others"
   ]
  },
  {
   "cell_type": "code",
   "execution_count": 13,
   "metadata": {},
   "outputs": [
    {
     "name": "stdout",
     "output_type": "stream",
     "text": [
      "Unlabeled litter | Unlabeled litter [58] : 518\n"
     ]
    }
   ],
   "source": [
    "for cat_id in data_source.getCatIds():\n",
    "    supercategory = data_source.loadCats(cat_id)[0]['supercategory']\n",
    "    category = data_source.loadCats(cat_id)[0]['name']\n",
    "    category_id = data_source.loadCats(cat_id)[0]['id']\n",
    "    if category_id in category_dict:\n",
    "        n_images = category_dict[category_id]\n",
    "    else: \n",
    "        n_images = 0\n",
    "    if 'unlabeled' in category.lower():\n",
    "        print(f\"{supercategory} | {category} [{category_id}] : {n_images}\")\n",
    "        if supercategory not in supercategory_labels.keys():\n",
    "            supercategory_labels[supercategory] = [category_id]\n",
    "        else:\n",
    "            supercategory_labels[supercategory].append(category_id)"
   ]
  },
  {
   "cell_type": "markdown",
   "metadata": {},
   "source": [
    "# 2. Download the data\n",
    "\n",
    "```python\n",
    "plastic_labels: [4, 5, 7, 21, 24, 27, 29, 36, 39, 47, 48, 49, 55, 10, 12, 57]\n",
    "paper_labels: [20, 30, 32, 33, 34, 35, 56, 14, 15, 16, 17, 18]\n",
    "glass_labels: [6, 9, 23, 26]\n",
    "metal_labels: [0, 2, 8, 28, 52, 59]\n",
    "unlabeled_labels: [518]\n",
    "```"
   ]
  },
  {
   "cell_type": "markdown",
   "metadata": {},
   "source": [
    "Select the labels that will be involved on the model training."
   ]
  },
  {
   "cell_type": "code",
   "execution_count": 14,
   "metadata": {},
   "outputs": [
    {
     "data": {
      "text/plain": [
       "{'Bottle': [4, 5, 6],\n",
       " 'Bottle cap': [7, 8],\n",
       " 'Cup': [21, 24, 20, 23],\n",
       " 'Lid': [27, 28],\n",
       " 'Other plastic': [29],\n",
       " 'Plastic bag & wrapper': [36, 39],\n",
       " 'Plastic container': [47],\n",
       " 'Plastic glooves': [48],\n",
       " 'Plastic utensils': [49],\n",
       " 'Straw': [55, 56],\n",
       " 'Can': [10, 12],\n",
       " 'Styrofoam piece': [57],\n",
       " 'Paper': [30, 32, 33],\n",
       " 'Paper bag': [34, 35],\n",
       " 'Carton': [14, 15, 16, 17, 18],\n",
       " 'Broken glass': [9],\n",
       " 'Glass jar': [26],\n",
       " 'Aluminium foil': [0],\n",
       " 'Blister pack': [2],\n",
       " 'Scrap metal': [52],\n",
       " 'Cigarette': [59],\n",
       " 'Unlabeled litter': [58]}"
      ]
     },
     "execution_count": 14,
     "metadata": {},
     "output_type": "execute_result"
    }
   ],
   "source": [
    "supercategory_labels"
   ]
  },
  {
   "cell_type": "code",
   "execution_count": 16,
   "metadata": {},
   "outputs": [
    {
     "data": {
      "text/plain": [
       "{4: 0,\n",
       " 5: 0,\n",
       " 6: 0,\n",
       " 7: 1,\n",
       " 8: 1,\n",
       " 21: 2,\n",
       " 24: 2,\n",
       " 20: 2,\n",
       " 23: 2,\n",
       " 27: 3,\n",
       " 28: 3,\n",
       " 29: 4,\n",
       " 36: 5,\n",
       " 39: 5,\n",
       " 47: 6,\n",
       " 48: 7,\n",
       " 49: 8,\n",
       " 55: 9,\n",
       " 56: 9,\n",
       " 10: 10,\n",
       " 12: 10,\n",
       " 57: 11,\n",
       " 30: 12,\n",
       " 32: 12,\n",
       " 33: 12,\n",
       " 34: 13,\n",
       " 35: 13,\n",
       " 14: 14,\n",
       " 15: 14,\n",
       " 16: 14,\n",
       " 17: 14,\n",
       " 18: 14,\n",
       " 9: 15,\n",
       " 26: 16,\n",
       " 0: 17,\n",
       " 2: 18,\n",
       " 52: 19,\n",
       " 59: 20,\n",
       " 58: 21}"
      ]
     },
     "execution_count": 16,
     "metadata": {},
     "output_type": "execute_result"
    }
   ],
   "source": [
    "mapping_labels"
   ]
  },
  {
   "cell_type": "code",
   "execution_count": 15,
   "metadata": {},
   "outputs": [],
   "source": [
    "mapping_labels = {}\n",
    "category_labels = {}\n",
    "\n",
    "for i, (supercategory, labels) in enumerate(supercategory_labels.items()):\n",
    "    category_labels[supercategory] = i\n",
    "    for label in labels:\n",
    "        mapping_labels[label] = i"
   ]
  },
  {
   "cell_type": "code",
   "execution_count": 21,
   "metadata": {},
   "outputs": [
    {
     "data": {
      "text/plain": [
       "array([ 0,  1,  2,  3,  4,  5,  6,  7,  8,  9, 10, 11, 12, 13, 14, 15, 16,\n",
       "       17, 18, 19, 20, 21])"
      ]
     },
     "execution_count": 21,
     "metadata": {},
     "output_type": "execute_result"
    }
   ],
   "source": [
    "import numpy as np\n",
    "np.unique(list(mapping_labels.values()))"
   ]
  },
  {
   "cell_type": "code",
   "execution_count": 15,
   "metadata": {},
   "outputs": [
    {
     "data": {
      "text/plain": [
       "(39,\n",
       " {'Bottle': 0,\n",
       "  'Bottle cap': 1,\n",
       "  'Cup': 2,\n",
       "  'Lid': 3,\n",
       "  'Other plastic': 4,\n",
       "  'Plastic bag & wrapper': 5,\n",
       "  'Plastic container': 6,\n",
       "  'Plastic glooves': 7,\n",
       "  'Plastic utensils': 8,\n",
       "  'Straw': 9,\n",
       "  'Can': 10,\n",
       "  'Styrofoam piece': 11,\n",
       "  'Paper': 12,\n",
       "  'Paper bag': 13,\n",
       "  'Carton': 14,\n",
       "  'Broken glass': 15,\n",
       "  'Glass jar': 16,\n",
       "  'Aluminium foil': 17,\n",
       "  'Blister pack': 18,\n",
       "  'Scrap metal': 19,\n",
       "  'Cigarette': 20,\n",
       "  'Unlabeled litter': 21})"
      ]
     },
     "execution_count": 15,
     "metadata": {},
     "output_type": "execute_result"
    }
   ],
   "source": [
    "len(mapping_labels), category_labels"
   ]
  },
  {
   "cell_type": "code",
   "execution_count": 18,
   "metadata": {},
   "outputs": [],
   "source": [
    "!mkdir -p tmp/labels tmp/images\n",
    "save_base_path  = 'tmp/labels/'\n",
    "save_image_path = 'tmp/images/'"
   ]
  },
  {
   "cell_type": "markdown",
   "metadata": {},
   "source": [
    "Only copy the needed files for each category"
   ]
  },
  {
   "cell_type": "code",
   "execution_count": 19,
   "metadata": {},
   "outputs": [
    {
     "name": "stderr",
     "output_type": "stream",
     "text": [
      "change .json file to .txt file: 1500it [00:03, 472.53it/s]\n"
     ]
    }
   ],
   "source": [
    "img_ids = data_source.getImgIds()\n",
    "class_num = {}\n",
    "\n",
    "# Iterate over all the imgs ids and only download the images which annotations belongs to the upper classes\n",
    "for index, img_id in tqdm.tqdm(enumerate(img_ids), desc='change .json file to .txt file'):\n",
    "    img_info = data_source.loadImgs(img_id)[0]\n",
    "    save_name = img_info['file_name'].replace('/', '_')\n",
    "    file_name = save_name.split('.')[0]\n",
    "    height = img_info['height']\n",
    "    width = img_info['width']\n",
    "    \n",
    "    save_path = save_base_path + file_name + '.txt'\n",
    "    is_exist = False \n",
    "    with open(save_path, mode='w') as fp:\n",
    "        annotation_id = data_source.getAnnIds(img_id)\n",
    "        boxes = np.zeros((0, 5))\n",
    "        if len(annotation_id) == 0:  # image without any annotations\n",
    "            fp.write('')\n",
    "            continue\n",
    "        annotations = data_source.loadAnns(annotation_id)\n",
    "        lines = ''\n",
    "        for annotation in annotations:\n",
    "            label = annotation['category_id']\n",
    "            if label in mapping_labels.keys():\n",
    "                is_exist = True\n",
    "                box = annotation['bbox']\n",
    "                if box[2] < 1 or box[3] < 1:\n",
    "                    continue\n",
    "                # top_x,top_y,width,height==>cen_x,cen_y,width,height\n",
    "                box[0] = round((box[0] + box[2] / 2) / width, 6)\n",
    "                box[1] = round((box[1] + box[3] / 2) / height, 6)\n",
    "                box[2] = round(box[2] / width, 6)\n",
    "                box[3] = round(box[3] / height, 6)\n",
    "                label = mapping_labels[label]\n",
    "                if label not in class_num.keys():\n",
    "                    class_num[label] = 0\n",
    "                class_num[label] += 1\n",
    "                lines = lines + str(label)\n",
    "                for i in box:\n",
    "                    lines += ' ' + str(i)\n",
    "                lines += '\\n'\n",
    "        fp.writelines(lines)\n",
    "    if is_exist:\n",
    "        shutil.copy(f\"{data_dir}/{img_info['file_name']}\", os.path.join(save_image_path, save_name))\n",
    "    else:\n",
    "        os.remove(save_path)"
   ]
  },
  {
   "cell_type": "code",
   "execution_count": 23,
   "metadata": {},
   "outputs": [
    {
     "name": "stderr",
     "output_type": "stream",
     "text": [
      "Copying files: 2834 files [00:01, 2044.54 files/s]\n"
     ]
    }
   ],
   "source": [
    "splitfolders.ratio('tmp', output=\"taco\", seed=1337, ratio=(.8, 0.1,0.1))"
   ]
  }
 ],
 "metadata": {
  "kernelspec": {
   "display_name": "yolov10",
   "language": "python",
   "name": "python3"
  },
  "language_info": {
   "codemirror_mode": {
    "name": "ipython",
    "version": 3
   },
   "file_extension": ".py",
   "mimetype": "text/x-python",
   "name": "python",
   "nbconvert_exporter": "python",
   "pygments_lexer": "ipython3",
   "version": "3.9.19"
  }
 },
 "nbformat": 4,
 "nbformat_minor": 2
}
